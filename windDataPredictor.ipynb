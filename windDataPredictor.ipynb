{
 "cells": [
  {
   "cell_type": "code",
   "execution_count": 15,
   "metadata": {},
   "outputs": [],
   "source": [
    "import numpy as np\n",
    "import pandas as pd\n",
    "from scipy.io import loadmat\n",
    "from sklearn.model_selection import train_test_split\n",
    "from sklearn.svm import SVR\n",
    "from sklearn.metrics import mean_squared_error\n",
    "from sklearn.preprocessing import MinMaxScaler\n",
    "from sklearn.linear_model import LinearRegression, LogisticRegression\n",
    "from statistics import mean\n",
    "import os\n",
    "from flask import Flask\n",
    "from flask import request"
   ]
  },
  {
   "cell_type": "code",
   "execution_count": 16,
   "metadata": {},
   "outputs": [
    {
     "data": {
      "text/plain": [
       "6"
      ]
     },
     "execution_count": 16,
     "metadata": {},
     "output_type": "execute_result"
    }
   ],
   "source": [
    "# folder path\n",
    "dir_path = r'..\\Python and Data Science\\WindDataSet'\n",
    "selection_string = \"T111_4_\"\n",
    "# list to store files\n",
    "res = []\n",
    "\n",
    "# Iterate directory\n",
    "for path in os.listdir(dir_path):\n",
    "    # check if current path is a file\n",
    "    if os.path.isfile(os.path.join(dir_path, path)):\n",
    "        res.append(path)\n",
    "filteredDir_path = [file_name for file_name in res if selection_string in file_name]\n",
    "len(filteredDir_path)"
   ]
  },
  {
   "cell_type": "code",
   "execution_count": 17,
   "metadata": {},
   "outputs": [],
   "source": [
    "# To read all data from mat file\n",
    "pc_list = {}\n",
    "try:\n",
    "    checkfile = open(\".\\Mean pc Data \" + selection_string + \".txt\",'r')\n",
    "    checkfile.close()\n",
    "except:\n",
    "    for file_name in filteredDir_path:\n",
    "        data_set = loadmat('./WindDataSet/' + file_name)\n",
    "        for time, value in enumerate(data_set['Wind_pressure_coefficients']):\n",
    "            winddirection = data_set[\"Wind_direction_angle\"][0][0]\n",
    "            for point, pressure_coefficient in enumerate(value):\n",
    "                x = data_set['Location_of_measured_points'][0][point]\n",
    "                y = data_set['Location_of_measured_points'][1][point]\n",
    "                side = data_set['Location_of_measured_points'][3][point]\n",
    "                roundedX = round(x*100)\n",
    "                roundedY = round(y*100)\n",
    "                uniqueKey = \"A\" + str(roundedX) + \"_\" + str(roundedY) + \"_\" + str(round(side)) + \"_\" + str(round(winddirection))\n",
    "                if uniqueKey in pc_list:\n",
    "                    pc_list[uniqueKey].append(pressure_coefficient)\n",
    "                else:\n",
    "                    pc_list[uniqueKey] = []\n",
    "    file = open(\".\\Mean pc Data \" + selection_string + \".txt\",'w')\n",
    "    print(len(pc_list.keys()))\n",
    "    for key in pc_list.keys():\n",
    "        x = key.split(\"_\")[0][1:]\n",
    "        y = key.split(\"_\")[1]\n",
    "        side = key.split(\"_\")[2]\n",
    "        wind_direction = key.split(\"_\")[3]\n",
    "        mean_pc = mean(pc_list[key])\n",
    "        file.write(x +\",\" + y +\",\" + side +\",\" + wind_direction + \",\" + str(mean_pc) + \"\\n\" )\n",
    "    file.close()"
   ]
  },
  {
   "cell_type": "code",
   "execution_count": 18,
   "metadata": {},
   "outputs": [
    {
     "data": {
      "text/plain": [
       "{'x': 0.01, 'y': 0.09, 'side': '1', 'wind_direction': '0', 'pc': '0.5117052'}"
      ]
     },
     "execution_count": 18,
     "metadata": {},
     "output_type": "execute_result"
    }
   ],
   "source": [
    "pc_mean_list = []\n",
    "file = open(\".\\Mean pc Data \" + selection_string + \".txt\",'r')\n",
    "for line in file:\n",
    "    all_values = line.split(\",\")\n",
    "    entry = {\"x\": int(all_values[0])/100, \"y\": int(all_values[1])/100, \"side\": all_values[2], \"wind_direction\": all_values[3], \"pc\": all_values[4].split(\"\\n\")[0]}\n",
    "    pc_mean_list.append(entry)\n",
    "file.close()\n",
    "pc_mean_list[0]"
   ]
  },
  {
   "cell_type": "code",
   "execution_count": 19,
   "metadata": {},
   "outputs": [],
   "source": [
    "pc_df = pd.DataFrame(pc_mean_list)"
   ]
  },
  {
   "cell_type": "code",
   "execution_count": 20,
   "metadata": {},
   "outputs": [
    {
     "data": {
      "text/html": [
       "<div>\n",
       "<style scoped>\n",
       "    .dataframe tbody tr th:only-of-type {\n",
       "        vertical-align: middle;\n",
       "    }\n",
       "\n",
       "    .dataframe tbody tr th {\n",
       "        vertical-align: top;\n",
       "    }\n",
       "\n",
       "    .dataframe thead th {\n",
       "        text-align: right;\n",
       "    }\n",
       "</style>\n",
       "<table border=\"1\" class=\"dataframe\">\n",
       "  <thead>\n",
       "    <tr style=\"text-align: right;\">\n",
       "      <th></th>\n",
       "      <th>x</th>\n",
       "      <th>y</th>\n",
       "      <th>side</th>\n",
       "      <th>wind_direction</th>\n",
       "    </tr>\n",
       "  </thead>\n",
       "  <tbody>\n",
       "    <tr>\n",
       "      <th>381</th>\n",
       "      <td>0.052632</td>\n",
       "      <td>0.00</td>\n",
       "      <td>0.000000</td>\n",
       "      <td>0.6</td>\n",
       "    </tr>\n",
       "    <tr>\n",
       "      <th>263</th>\n",
       "      <td>0.157895</td>\n",
       "      <td>0.25</td>\n",
       "      <td>0.000000</td>\n",
       "      <td>0.4</td>\n",
       "    </tr>\n",
       "    <tr>\n",
       "      <th>296</th>\n",
       "      <td>0.842105</td>\n",
       "      <td>0.00</td>\n",
       "      <td>1.000000</td>\n",
       "      <td>0.4</td>\n",
       "    </tr>\n",
       "    <tr>\n",
       "      <th>236</th>\n",
       "      <td>0.842105</td>\n",
       "      <td>0.75</td>\n",
       "      <td>1.000000</td>\n",
       "      <td>0.4</td>\n",
       "    </tr>\n",
       "    <tr>\n",
       "      <th>173</th>\n",
       "      <td>0.684211</td>\n",
       "      <td>0.25</td>\n",
       "      <td>0.666667</td>\n",
       "      <td>0.2</td>\n",
       "    </tr>\n",
       "    <tr>\n",
       "      <th>...</th>\n",
       "      <td>...</td>\n",
       "      <td>...</td>\n",
       "      <td>...</td>\n",
       "      <td>...</td>\n",
       "    </tr>\n",
       "    <tr>\n",
       "      <th>572</th>\n",
       "      <td>0.631579</td>\n",
       "      <td>0.25</td>\n",
       "      <td>0.666667</td>\n",
       "      <td>1.0</td>\n",
       "    </tr>\n",
       "    <tr>\n",
       "      <th>34</th>\n",
       "      <td>0.736842</td>\n",
       "      <td>0.75</td>\n",
       "      <td>0.666667</td>\n",
       "      <td>0.0</td>\n",
       "    </tr>\n",
       "    <tr>\n",
       "      <th>186</th>\n",
       "      <td>0.315789</td>\n",
       "      <td>0.00</td>\n",
       "      <td>0.333333</td>\n",
       "      <td>0.2</td>\n",
       "    </tr>\n",
       "    <tr>\n",
       "      <th>297</th>\n",
       "      <td>0.894737</td>\n",
       "      <td>0.00</td>\n",
       "      <td>1.000000</td>\n",
       "      <td>0.4</td>\n",
       "    </tr>\n",
       "    <tr>\n",
       "      <th>199</th>\n",
       "      <td>1.000000</td>\n",
       "      <td>0.00</td>\n",
       "      <td>1.000000</td>\n",
       "      <td>0.2</td>\n",
       "    </tr>\n",
       "  </tbody>\n",
       "</table>\n",
       "<p>540 rows × 4 columns</p>\n",
       "</div>"
      ],
      "text/plain": [
       "            x     y      side  wind_direction\n",
       "381  0.052632  0.00  0.000000             0.6\n",
       "263  0.157895  0.25  0.000000             0.4\n",
       "296  0.842105  0.00  1.000000             0.4\n",
       "236  0.842105  0.75  1.000000             0.4\n",
       "173  0.684211  0.25  0.666667             0.2\n",
       "..        ...   ...       ...             ...\n",
       "572  0.631579  0.25  0.666667             1.0\n",
       "34   0.736842  0.75  0.666667             0.0\n",
       "186  0.315789  0.00  0.333333             0.2\n",
       "297  0.894737  0.00  1.000000             0.4\n",
       "199  1.000000  0.00  1.000000             0.2\n",
       "\n",
       "[540 rows x 4 columns]"
      ]
     },
     "execution_count": 20,
     "metadata": {},
     "output_type": "execute_result"
    }
   ],
   "source": [
    "normalizer = MinMaxScaler()\n",
    "X = pc_df.drop(\"pc\", axis=1)\n",
    "y = pc_df[\"pc\"]\n",
    "X_train, X_test, y_train, y_test = train_test_split(X,y,test_size=0.1)\n",
    "X_train[[\"x\",\"y\",\"side\",\"wind_direction\"]] = normalizer.fit_transform(X_train[[\"x\",\"y\",\"side\",\"wind_direction\"]])\n",
    "X_test[[\"x\",\"y\",\"side\",\"wind_direction\"]] = normalizer.transform(X_test[[\"x\",\"y\",\"side\",\"wind_direction\"]])\n",
    "X_train"
   ]
  },
  {
   "cell_type": "code",
   "execution_count": 21,
   "metadata": {},
   "outputs": [
    {
     "data": {
      "text/html": [
       "<div>\n",
       "<style scoped>\n",
       "    .dataframe tbody tr th:only-of-type {\n",
       "        vertical-align: middle;\n",
       "    }\n",
       "\n",
       "    .dataframe tbody tr th {\n",
       "        vertical-align: top;\n",
       "    }\n",
       "\n",
       "    .dataframe thead th {\n",
       "        text-align: right;\n",
       "    }\n",
       "</style>\n",
       "<table border=\"1\" class=\"dataframe\">\n",
       "  <thead>\n",
       "    <tr style=\"text-align: right;\">\n",
       "      <th></th>\n",
       "      <th>x</th>\n",
       "      <th>y</th>\n",
       "    </tr>\n",
       "  </thead>\n",
       "  <tbody>\n",
       "    <tr>\n",
       "      <th>count</th>\n",
       "      <td>600.000000</td>\n",
       "      <td>600.000000</td>\n",
       "    </tr>\n",
       "    <tr>\n",
       "      <th>mean</th>\n",
       "      <td>0.200000</td>\n",
       "      <td>0.050000</td>\n",
       "    </tr>\n",
       "    <tr>\n",
       "      <th>std</th>\n",
       "      <td>0.115422</td>\n",
       "      <td>0.028308</td>\n",
       "    </tr>\n",
       "    <tr>\n",
       "      <th>min</th>\n",
       "      <td>0.010000</td>\n",
       "      <td>0.010000</td>\n",
       "    </tr>\n",
       "    <tr>\n",
       "      <th>25%</th>\n",
       "      <td>0.105000</td>\n",
       "      <td>0.030000</td>\n",
       "    </tr>\n",
       "    <tr>\n",
       "      <th>50%</th>\n",
       "      <td>0.200000</td>\n",
       "      <td>0.050000</td>\n",
       "    </tr>\n",
       "    <tr>\n",
       "      <th>75%</th>\n",
       "      <td>0.295000</td>\n",
       "      <td>0.070000</td>\n",
       "    </tr>\n",
       "    <tr>\n",
       "      <th>max</th>\n",
       "      <td>0.390000</td>\n",
       "      <td>0.090000</td>\n",
       "    </tr>\n",
       "  </tbody>\n",
       "</table>\n",
       "</div>"
      ],
      "text/plain": [
       "                x           y\n",
       "count  600.000000  600.000000\n",
       "mean     0.200000    0.050000\n",
       "std      0.115422    0.028308\n",
       "min      0.010000    0.010000\n",
       "25%      0.105000    0.030000\n",
       "50%      0.200000    0.050000\n",
       "75%      0.295000    0.070000\n",
       "max      0.390000    0.090000"
      ]
     },
     "execution_count": 21,
     "metadata": {},
     "output_type": "execute_result"
    }
   ],
   "source": [
    "pc_df.describe()"
   ]
  },
  {
   "cell_type": "code",
   "execution_count": 29,
   "metadata": {},
   "outputs": [
    {
     "name": "stdout",
     "output_type": "stream",
     "text": [
      " * Serving Flask app '__main__'\n",
      " * Debug mode: off\n"
     ]
    },
    {
     "name": "stderr",
     "output_type": "stream",
     "text": [
      "WARNING: This is a development server. Do not use it in a production deployment. Use a production WSGI server instead.\n",
      " * Running on http://127.0.0.1:5000\n",
      "Press CTRL+C to quit\n",
      "c:\\Users\\chali\\anaconda3\\Lib\\site-packages\\sklearn\\base.py:493: UserWarning: X does not have valid feature names, but LinearRegression was fitted with feature names\n",
      "  warnings.warn(\n",
      "c:\\Users\\chali\\anaconda3\\Lib\\site-packages\\sklearn\\base.py:493: UserWarning: X does not have valid feature names, but LogisticRegression was fitted with feature names\n",
      "  warnings.warn(\n",
      "c:\\Users\\chali\\anaconda3\\Lib\\site-packages\\sklearn\\base.py:493: UserWarning: X does not have valid feature names, but SVR was fitted with feature names\n",
      "  warnings.warn(\n",
      "c:\\Users\\chali\\anaconda3\\Lib\\site-packages\\sklearn\\base.py:493: UserWarning: X does not have valid feature names, but SVR was fitted with feature names\n",
      "  warnings.warn(\n",
      "127.0.0.1 - - [11/May/2024 02:34:52] \"GET /?model=all&x=1&y=9&side=1&winddirection=0 HTTP/1.1\" 200 -\n"
     ]
    },
    {
     "name": "stdout",
     "output_type": "stream",
     "text": [
      "[[1, 9, 1, 0]]\n",
      "[[1, 9, 1, 0]]\n",
      "[[1, 9, 1, 0]]\n",
      "[[1, 9, 1, 0]]\n"
     ]
    },
    {
     "name": "stderr",
     "output_type": "stream",
     "text": [
      "c:\\Users\\chali\\anaconda3\\Lib\\site-packages\\sklearn\\base.py:493: UserWarning: X does not have valid feature names, but LinearRegression was fitted with feature names\n",
      "  warnings.warn(\n",
      "c:\\Users\\chali\\anaconda3\\Lib\\site-packages\\sklearn\\base.py:493: UserWarning: X does not have valid feature names, but LogisticRegression was fitted with feature names\n",
      "  warnings.warn(\n",
      "c:\\Users\\chali\\anaconda3\\Lib\\site-packages\\sklearn\\base.py:493: UserWarning: X does not have valid feature names, but SVR was fitted with feature names\n",
      "  warnings.warn(\n",
      "c:\\Users\\chali\\anaconda3\\Lib\\site-packages\\sklearn\\base.py:493: UserWarning: X does not have valid feature names, but SVR was fitted with feature names\n",
      "  warnings.warn(\n",
      "127.0.0.1 - - [11/May/2024 02:34:55] \"GET /?model=all&x=1&y=9&side=1&winddirection=0 HTTP/1.1\" 200 -\n"
     ]
    },
    {
     "name": "stdout",
     "output_type": "stream",
     "text": [
      "[[1, 9, 1, 0]]\n",
      "[[1, 9, 1, 0]]\n",
      "[[1, 9, 1, 0]]\n",
      "[[1, 9, 1, 0]]\n"
     ]
    }
   ],
   "source": [
    "app = Flask(__name__)\n",
    "\n",
    "@app.route('/')\n",
    "def predict_pc():\n",
    "    \n",
    "    x = request.args.get('x')\n",
    "    y = request.args.get('y')\n",
    "    side = request.args.get('side')\n",
    "    winddirection = request.args.get('winddirection')\n",
    "    modeltype = request.args.get('model')\n",
    "    testentry= [[int(x),int(y),int(side),int(winddirection)]]\n",
    "\n",
    "\n",
    "    model_list = [\"linear\", \"logistic\",\"svr_linear\",\"svr_rbf\"]\n",
    "\n",
    "    def model_predict(modeltype):\n",
    "        prediction_model = \"\"\n",
    "        match modeltype:\n",
    "            # Linear regression - straight line fitting\n",
    "            case \"linear\":\n",
    "                prediction_model = LinearRegression()\n",
    "            # Logistic regression - logarithmic fitting\n",
    "            case \"logistic\":\n",
    "                prediction_model = LogisticRegression()\n",
    "            # Support Vector Regression - Linear\n",
    "            case \"svr_linear\":\n",
    "                prediction_model = SVR(kernel='linear')\n",
    "            # Support Vector Regression - Rbf\n",
    "            case \"svr_rbf\":\n",
    "                prediction_model = SVR(kernel='rbf')\n",
    "\n",
    "        if prediction_model == \"\":\n",
    "            return \"Model Invalid!\"\n",
    "        \n",
    "        prediction_model.fit(X_train,y_train)\n",
    "        y_predict = prediction_model.predict(X_test)\n",
    "        mse = mean_squared_error(y_test, y_predict)\n",
    "        api_y_predict = prediction_model.predict(testentry)\n",
    "        response = {\"model\": modeltype, \"predicted_pc\": list(api_y_predict)[0], \"mean_squared_error\": mse}\n",
    "        return response\n",
    "    \n",
    "    result = []\n",
    "    if modeltype == \"all\":\n",
    "        for model_type in model_list:\n",
    "            result.append(model_predict(model_type))\n",
    "    else:\n",
    "        result = model_predict(modeltype)\n",
    "    return result\n",
    "    \n",
    "\n",
    "if __name__ == '__main__':\n",
    "   app.run()"
   ]
  }
 ],
 "metadata": {
  "kernelspec": {
   "display_name": "base",
   "language": "python",
   "name": "python3"
  },
  "language_info": {
   "codemirror_mode": {
    "name": "ipython",
    "version": 3
   },
   "file_extension": ".py",
   "mimetype": "text/x-python",
   "name": "python",
   "nbconvert_exporter": "python",
   "pygments_lexer": "ipython3",
   "version": "3.11.5"
  }
 },
 "nbformat": 4,
 "nbformat_minor": 2
}
